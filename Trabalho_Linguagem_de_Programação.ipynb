{
  "cells": [
    {
      "cell_type": "markdown",
      "metadata": {
        "id": "view-in-github",
        "colab_type": "text"
      },
      "source": [
        "<a href=\"https://colab.research.google.com/github/GabrielaC-Araujo/linguagem-progracao/blob/main/Trabalho_Linguagem_de_Programa%C3%A7%C3%A3o.ipynb\" target=\"_parent\"><img src=\"https://colab.research.google.com/assets/colab-badge.svg\" alt=\"Open In Colab\"/></a>"
      ]
    },
    {
      "cell_type": "markdown",
      "metadata": {
        "id": "SrKOk83rxzSc"
      },
      "source": [
        "#Atividade 1 - Calculadora"
      ]
    },
    {
      "cell_type": "code",
      "execution_count": null,
      "metadata": {
        "id": "agNWsaSFx6CW"
      },
      "outputs": [],
      "source": [
        "import math #módulo math para o cálculo de raíz quadrada\n",
        "\n",
        "class Calculadora: #criação classe calculadora\n",
        "\n",
        "    def solicitar_numeros(self): #função de solicitação de números inteiros.\n",
        "        num1 = int(input(\"Digite o penúltimo número do seu RU: \"))\n",
        "        num2 = int(input(\"Digite o último número do seu RU: \"))\n",
        "\n",
        "        if num1 == 0 or num2 == 0: #condição para alterar os num 0 por 5\n",
        "            num1 = 5\n",
        "            num2 = 5\n",
        "\n",
        "        return num1, num2\n",
        "\n",
        "    def menu(self): #função para o menu\n",
        "        while True:\n",
        "            print(\"\\nSelecione a operação que deseja realizar:\")\n",
        "            print(\"1. Soma (+)\")\n",
        "            print(\"2. Subtração (-)\")\n",
        "            print(\"3. Multiplicação (*)\")\n",
        "            print(\"4. Divisão (/)\")\n",
        "            print(\"5. Expoente (^)\")\n",
        "            print(\"6. Resto (%)\")\n",
        "            print(\"7. Raiz quadrada da soma dos dois números\")\n",
        "            print(\"0. Sair\")\n",
        "\n",
        "            opcao = int(input(\"Digite o número da operação desejada: \"))\n",
        "\n",
        "            if opcao == 0:\n",
        "                print(\"Encerrando a calculadora...\")\n",
        "                break\n",
        "            if opcao < 1 or opcao > 7:\n",
        "                print(\"Opção inválida!\")\n",
        "                continue\n",
        "\n",
        " #operações da calculadora\n",
        "            num1, num2 = self.solicitar_numeros()\n",
        "            if opcao == 1: #soma\n",
        "                resultado = num1 + num2\n",
        "                print(f\"A soma de {num1} + {num2} é igual a {resultado}.\")\n",
        "            elif opcao == 2: #subtração\n",
        "                resultado = num1 - num2\n",
        "                print(f\"A subtração de {num1} - {num2} é igual a {resultado}.\")\n",
        "            elif opcao == 3: #multiplicação\n",
        "                resultado = num1 * num2\n",
        "                print(f\"A multiplicação de {num1} * {num2} é igual a {resultado}.\")\n",
        "            elif opcao == 4: #divisão\n",
        "                if num2 == 0:\n",
        "                    print(\"Não é possível dividir por zero.\")\n",
        "                else:\n",
        "                    resultado = num1 / num2\n",
        "                    print(f\"A divisão de {num1} / {num2} é igual a {resultado}.\")\n",
        "            elif opcao == 5: #expoente\n",
        "                resultado = num1 ** num2\n",
        "                print(f\"{num1} elevado a {num2} é igual a {resultado}.\")\n",
        "            elif opcao == 6: #resto\n",
        "                resultado = num1 % num2\n",
        "                print(f\"O resto da divisão de {num1} por {num2} é igual a {resultado}.\")\n",
        "            elif opcao == 7: #raíz quadrada\n",
        "                soma = num1 + num2\n",
        "                resultado = math.sqrt(soma)\n",
        "                print(f\"A raiz quadrada da soma de {num1} e {num2} é igual a {resultado}.\")\n",
        "\n",
        "# Utilização da calculadora\n",
        "calculadora = Calculadora()\n",
        "calculadora.menu()"
      ]
    },
    {
      "cell_type": "markdown",
      "metadata": {
        "id": "Z2jEEBKErQo1"
      },
      "source": [
        "# Atividade 2 - Plano Cartesiano\n",
        "\n"
      ]
    },
    {
      "cell_type": "code",
      "execution_count": null,
      "metadata": {
        "id": "xSMNC6ov2a4q"
      },
      "outputs": [],
      "source": [
        "import numpy as np\n",
        "import matplotlib.pyplot as plt\n",
        "\n",
        "def solicitar_numeros(): # Função para solicitar os números do RU\n",
        "    a = int(input(\"Digite o primeiro número do seu RU: \"))\n",
        "    b = int(input(\"Digite o segundo número do seu RU: \"))\n",
        "    c = int(input(\"Digite o terceiro número do seu RU: \"))\n",
        "\n",
        "    if a == 0 or b == 0 or c == 0: # Condição para alterar os números 0 por 5\n",
        "        a = 5\n",
        "        b = 5\n",
        "        c = 5\n",
        "\n",
        "    return a, b, c\n",
        "\n",
        "# Solicitando os números do RU\n",
        "a, b, c = solicitar_numeros()\n",
        "\n",
        "# Criando vetor aleatório de tamanho 10 para x\n",
        "x = np.random.rand(10)\n",
        "\n",
        "# Calculando os valores de y para cada x\n",
        "y = a * x + b * x - c\n",
        "\n",
        "# Plotando o gráfico\n",
        "plt.plot(x, y, c='DarkOliveGreen')\n",
        "plt.xlabel('X')\n",
        "plt.ylabel('Y')\n",
        "plt.title('Gráfico do Exercício Prático 2')\n",
        "plt.legend(['Valores de X'])\n",
        "plt.show()\n"
      ]
    },
    {
      "cell_type": "markdown",
      "metadata": {
        "id": "49v6LXlicZEr"
      },
      "source": []
    },
    {
      "cell_type": "markdown",
      "metadata": {
        "id": "ZyK2zZ5Pc2M1"
      },
      "source": [
        "#Atividade 3 - Trabalhando com CSV"
      ]
    },
    {
      "cell_type": "code",
      "execution_count": null,
      "metadata": {
        "id": "xSyS8mxQkyYp"
      },
      "outputs": [],
      "source": [
        "#importando bibliotecas\n",
        "import pandas as pd\n",
        "import matplotlib.pyplot as plt\n",
        "\n",
        "\n",
        "#modelagem do google drive\n",
        "drive.mount('/content/drive')\n",
        "\n",
        "#importação arquivo Stores.csv\n",
        "df = pd.read_csv('/content/drive/MyDrive/Stores.csv', sep=',', encoding='ISO 8859-1')\n",
        "df.head()\n",
        "df.columns.values"
      ]
    },
    {
      "cell_type": "code",
      "execution_count": null,
      "metadata": {
        "id": "2V3T69c8wiLs"
      },
      "outputs": [],
      "source": [
        "#renomear colunas\n",
        "dfColunas = ['ï»¿Store ID ', 'Store_Area', 'Items_Available', 'Daily_Customer_Count', 'Store_Sales']\n",
        "dfFiltrado = df.filter(items=dfColunas)\n",
        "dfFiltrado.rename(columns={\n",
        "    'ï»¿Store ID ': 'ID',\n",
        "    'Store_Area': 'Itens',\n",
        "    'Items_Available': 'Itens Disponíveis',\n",
        "    'Daily_Customer_Count': 'Visitantes',\n",
        "    'Store_Sales': 'Vendas (US$)'\n",
        "}, inplace=True)\n",
        "dfFiltrado"
      ]
    },
    {
      "cell_type": "code",
      "execution_count": null,
      "metadata": {
        "id": "DpzT0j_4wsQq"
      },
      "outputs": [],
      "source": [
        "#testes estatísticos\n",
        "colunas_analisadas = ['Itens Disponíveis', 'Visitantes', 'Vendas (US$)']\n",
        "\n",
        "for i, coluna in enumerate(colunas_analisadas):\n",
        "    dados = dfFiltrado[coluna]  #acesso ao DataFrame dfFiltrado\n",
        "    print(f'\\n{coluna}:')\n",
        "    print(f'Máximo: {dados.max()}') #retorna o valor máx.\n",
        "    print(f'Mínimo: {dados.min()}') #retorna o valor min.\n",
        "    print(f'Média: {dados.mean()}')  #retorna a média\n",
        "    print(f'Desvio padrão: {dados.std()}') #retorna o desvio padrão"
      ]
    },
    {
      "cell_type": "code",
      "execution_count": null,
      "metadata": {
        "id": "CtigqnMNyLVj"
      },
      "outputs": [],
      "source": [
        "#gráficos\n",
        "cores = ['Lavender', 'DarkTurquoise', 'Tan'] #cores para os gráficos\n",
        "for i, coluna in enumerate(colunas_analisadas):\n",
        "    plt.figure()\n",
        "    plt.scatter(range(len(dfFiltrado)), dfFiltrado[coluna], color=cores[i], label=coluna)\n",
        "    plt.xlabel('Lojas')\n",
        "    plt.ylabel(coluna)\n",
        "    plt.legend()\n",
        "    plt.show()"
      ]
    }
  ],
  "metadata": {
    "colab": {
      "provenance": [],
      "authorship_tag": "ABX9TyMlSEhkbLjX66aSfo2BgMFk",
      "include_colab_link": true
    },
    "kernelspec": {
      "display_name": "Python 3",
      "name": "python3"
    },
    "language_info": {
      "name": "python"
    }
  },
  "nbformat": 4,
  "nbformat_minor": 0
}